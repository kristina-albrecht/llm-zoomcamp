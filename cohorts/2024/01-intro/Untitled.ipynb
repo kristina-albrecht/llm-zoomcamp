{
 "cells": [
  {
   "cell_type": "code",
   "execution_count": 2,
   "id": "ab008c8f-d393-4b64-8683-2bad3cfe16f9",
   "metadata": {},
   "outputs": [],
   "source": [
    "import openai"
   ]
  },
  {
   "cell_type": "code",
   "execution_count": 3,
   "id": "8351b5f9-3e5a-4c4b-a887-12b0d1d1ddd5",
   "metadata": {},
   "outputs": [],
   "source": [
    "from openai import OpenAI"
   ]
  },
  {
   "cell_type": "code",
   "execution_count": 10,
   "id": "7e7822b4-6d2e-4d81-8c32-8fff23f19ecb",
   "metadata": {},
   "outputs": [],
   "source": [
    "client = OpenAI()"
   ]
  },
  {
   "cell_type": "code",
   "execution_count": 14,
   "id": "b9c50230-3a88-4040-bf1b-87a65ae0cae6",
   "metadata": {},
   "outputs": [],
   "source": [
    "responses = client.chat.completions.create(model='gpt-4o-mini',\n",
    "                              messages=[{\"role\": \"user\", \"content\":\"how to cook salmon\" }])"
   ]
  },
  {
   "cell_type": "code",
   "execution_count": 17,
   "id": "0b224394-2b72-4ebd-871d-666fc1a5593b",
   "metadata": {},
   "outputs": [
    {
     "data": {
      "text/plain": [
       "'Cooking salmon can be done in a variety of ways, depending on your preference. Here are three popular methods: baking, pan-searing, and grilling.\\n\\n### 1. Baking Salmon\\n**Ingredients:**\\n- Salmon fillets (with or without skin)\\n- Olive oil or melted butter\\n- Salt\\n- Pepper\\n- Optional: lemon slices, herbs (such as dill or parsley), garlic\\n\\n**Instructions:**\\n1. Preheat your oven to 375°F (190°C).\\n2. Line a baking dish with parchment paper or lightly grease it.\\n3. Place the salmon fillets in the dish, skin-side down if it has skin.\\n4. Drizzle with olive oil or melted butter and season with salt, pepper, and any other desired seasonings.\\n5. If using, place lemon slices and herbs on top of the salmon.\\n6. Bake for about 15-20 minutes, or until the salmon flakes easily with a fork and reaches an internal temperature of 145°F (63°C).\\n7. Remove from the oven and let rest for a few minutes before serving.\\n\\n### 2. Pan-Seared Salmon\\n**Ingredients:**\\n- Salmon fillets (with skin recommended)\\n- Olive oil or butter\\n- Salt\\n- Pepper\\n- Optional: garlic, herbs for flavor\\n\\n**Instructions:**\\n1. Pat the salmon dry with paper towels to remove excess moisture.\\n2. Season both sides with salt and pepper.\\n3. Heat a skillet over medium-high heat and add olive oil or butter.\\n4. Once the oil is hot (but not smoking), place the salmon skin-side down in the skillet.\\n5. Cook for about 4-5 minutes or until the skin is crispy and the fillet is cooked about halfway up.\\n6. Flip the salmon and cook for an additional 3-4 minutes, or until it reaches your desired doneness.\\n7. Optional: In the last minute of cooking, you can add minced garlic and herbs to flavor the oil.\\n8. Once cooked, transfer to a plate and let rest for a few minutes before serving.\\n\\n### 3. Grilling Salmon\\n**Ingredients:**\\n- Salmon fillets (preferably with skin)\\n- Olive oil\\n- Salt\\n- Pepper\\n- Optional: lemon juice, herbs\\n\\n**Instructions:**\\n1. Preheat your grill to medium-high heat.\\n2. Brush the salmon fillets with olive oil and season with salt, pepper, and any other desired seasonings.\\n3. If you have skin-on fillets, place them skin-side down on the grill. If using skinless, you may want to use a grill basket to prevent sticking.\\n4. Grill for about 4-5 minutes per side, depending on thickness. Flip carefully using a spatula.\\n5. Cook until the salmon flakes easily and reaches an internal temperature of 145°F (63°C).\\n6. Remove from the grill and let it rest for a few minutes before serving.\\n\\n### Tips:\\n- Dollar for dollar, wild-caught salmon is often considered more flavorful and has a firmer texture than farmed salmon.\\n- You can marinate salmon prior to cooking for added flavor.\\n- Serve with sides like vegetables, rice, or salads.\\n\\nEnjoy your salmon!'"
      ]
     },
     "execution_count": 17,
     "metadata": {},
     "output_type": "execute_result"
    }
   ],
   "source": [
    "responses.choices[0].message.content"
   ]
  },
  {
   "cell_type": "code",
   "execution_count": null,
   "id": "2c0520db-cc11-4876-8986-5f257d11bd87",
   "metadata": {},
   "outputs": [],
   "source": []
  },
  {
   "cell_type": "code",
   "execution_count": null,
   "id": "923701e7-20a8-4f3b-8a7b-8db59fcd402e",
   "metadata": {},
   "outputs": [],
   "source": []
  }
 ],
 "metadata": {
  "kernelspec": {
   "display_name": "Python 3 (ipykernel)",
   "language": "python",
   "name": "python3"
  },
  "language_info": {
   "codemirror_mode": {
    "name": "ipython",
    "version": 3
   },
   "file_extension": ".py",
   "mimetype": "text/x-python",
   "name": "python",
   "nbconvert_exporter": "python",
   "pygments_lexer": "ipython3",
   "version": "3.10.13"
  }
 },
 "nbformat": 4,
 "nbformat_minor": 5
}
